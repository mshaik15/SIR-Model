{
 "cells": [
  {
   "cell_type": "markdown",
   "id": "1f0786a1c102a030",
   "metadata": {},
   "source": [
    "# SIR Predictive Analysis Project\n",
    "### By: Mohammed Rehan\n",
    "Contributions: Zayn Bhatti, Jeremiah Chulliyadan, Nandan Varma, Huzayfa Jasat"
   ]
  },
  {
   "cell_type": "markdown",
   "id": "c67e05162096f45b",
   "metadata": {},
   "source": [
    "## Introduction\n",
    "This project explores the application of epidemiological models used to analyze and predict the spread of measles in the United States for the next 20 years. The SIR model is used to preform a predictive analysis using historical data on U.S. measles cases.\n",
    "\n",
    "Inspired by Mr. P Solver's video $[2]$ on the creating a SIR model in python, this project uses the same approach to solve systems of differential equations using `odeint`, a python package from `scipy.integrate`. Historical data is used to derive all perameters being based on a CSV file $[1]$ containing recorded cases, which serve as the foundations to determining the transmission rate of measles.\n",
    "\n",
    "Using seperate functions, this program calculates the infection rate constant from histoical data, solves a system of differential equations, and creates a interactive user interface.\n",
    "\n",
    "It is important to note that I AM NOT AN EPIDEMIOLOGIST and this project is not intended to simulate or predict real-world scenarios. Instead, it serves as experience in Python libraries like `Matplotlib`, `SciPy`, and `NumPy`. The results presented are purely theoretical and are not reflective of real world epidemiological trends\n",
    "\n",
    "Note: This project was created by Mohammed Rehan Ali Shaik. Tested by contributors. All functions, concepts, or ideas used from other sources are credited on the references page and in-text citations, using their respective identification (more information on the reference pages)\n"
   ]
  },
  {
   "cell_type": "markdown",
   "id": "71fe3929-108d-4718-b97a-dc2a2fd13139",
   "metadata": {},
   "source": [
    "## The SIR Model"
   ]
  },
  {
   "attachments": {},
   "cell_type": "markdown",
   "id": "a9e629e9-50cd-4518-ae20-8d724786ea98",
   "metadata": {},
   "source": [
    "<img src='SIR Image.PNG'>"
   ]
  },
  {
   "cell_type": "markdown",
   "id": "5b64c88d040890f",
   "metadata": {},
   "source": [
    "### SIR Model Explanation\n",
    "#### Refernces: $[2][3][4]$\n",
    "\n",
    "#### The SIR (Susceptible, Infected, Recovered) model is the simplest epidemiological model used to study the spread of infectious diseases.\n",
    "#### This model uses a few assumptions to hold true\n",
    "1. Fixed population size: The U.S. Population stays constant over the measurement period\n",
    "2. Homogeneous Mixing: the population is assumed to mix randomly and evenly\n",
    "3. Immunity after recovery: The recovered population cannot become susceptible\n",
    "4. Doesn't factor  in intervention: Assumes no external intervention like vaccinations\n",
    "\n",
    "#### With these assumptions, the SIR model breaks the U.S. populations into 3 separate populations:\n",
    "1. Susceptible (S): Individuals who can contract the disease, The susceptible population decreases as individuals become infected.\n",
    "2. Infected (I): Individuals currently infected and capable of spreading the disease, The infected population increases when susceptible individuals are infected and decreases as they recover.\n",
    "3. Recovered (R): Individuals who have recovered and are immune, The recovered population increases as infected individuals recover.\n",
    "\n",
    "#### Assuming population can only move forward in the model, differential equations are used to describe how the populations change over time\n",
    "\n",
    "- Susceptible population:\n",
    "  $\\frac{dS}{dt} = -\\frac{\\beta}{N} S I$\n",
    "\n",
    "\n",
    "- Infected population: $\\frac{dI}{dt} = \\frac{\\beta}{N} S I - \\gamma I$\n",
    "\n",
    "- Recovered population:\n",
    "  $\\frac{dR}{dt} = \\gamma I$\n",
    "\n",
    "\n",
    "#### This system of equations is solved by `ODEINT` from `SciPy.Integrate`\n",
    "\n",
    "### Parameters and Variables:\n",
    "- $\\beta$: Infection/Transmission rate constant.\n",
    "- $\\gamma$: Recovery rate constant $\\frac{1}{Recovery Period (days)}$\n",
    "- $N = S + I + R$: Total population.\n",
    "\n",
    "#### This model helps analyze disease dynamics and predict the spread of infections using 8 functions\n"
   ]
  },
  {
   "cell_type": "markdown",
   "id": "e74244ba6ecee8b7",
   "metadata": {},
   "source": [
    "## Imports, Libraries, and Initialization"
   ]
  },
  {
   "cell_type": "code",
   "execution_count": 2,
   "id": "5a2bd4249dc27fcc",
   "metadata": {
    "ExecuteTime": {
     "end_time": "2025-01-16T14:20:02.026013Z",
     "start_time": "2025-01-16T14:19:51.061024Z"
    }
   },
   "outputs": [],
   "source": [
    "import numpy as np  #For computations and handling arrays, lists, and dictionaries\n",
    "import matplotlib.pyplot as plt  # For creating and displaying plots and graphs\n",
    "from scipy.integrate import odeint  # For solving differential equations numerically\n",
    "import csv  # For reading CSV files\n",
    "import tkinter as tk  # For building the GUI\n",
    "import matplotlib  # To configure Matplotlib's rendering backend\n",
    "from matplotlib.widgets import Slider  # For adding interactive sliders to plots (optional)\n",
    "\n",
    "matplotlib.use('TkAgg')  # Set the backend to TkAgg for Tkinter integration\n",
    "from matplotlib.backends.backend_tkagg import FigureCanvasTkAgg  # Embed Matplotlib plots into Tkinter GUI\n"
   ]
  },
  {
   "cell_type": "code",
   "execution_count": 3,
   "id": "4180d81ad45f992f",
   "metadata": {
    "ExecuteTime": {
     "end_time": "2025-01-16T14:20:02.046630Z",
     "start_time": "2025-01-16T14:20:02.037847Z"
    }
   },
   "outputs": [],
   "source": [
    "data = []  # Empty list to store infected cases over time\n",
    "beta_list = []  # Empty list to store transmission rates over time\n",
    "previous_cases = 0  # Variable to track the number of cases in the previous time step, initially set to 0\n",
    "previous_population = 0  # Variable to track the population in the previous time step, initially set to 0\n",
    "gamma = 1 / 14  # Recovery rate [5]\n",
    "population = 3349900000  # Total population size (assumed to be a fixed value, here 3.35 billion)\n",
    "times = np.arange(0, 20, 1)  # Array representing time steps from 0 to 20 (e.g., days), with a step of 1\n",
    "\n"
   ]
  },
  {
   "cell_type": "markdown",
   "id": "13709e6eb642ed7e",
   "metadata": {},
   "source": [
    "## Function 1: Reading CSV Function"
   ]
  },
  {
   "cell_type": "markdown",
   "id": "e442b6a11225c2f6",
   "metadata": {},
   "source": [
    "The `reading_data()` function reads a CSV file containing U.S. measles data, processes each row as a dictionary, and removes any entries with empty or whitespace-only values. It then appends the cleaned data (dictionaries) to the `data` list for further use. The function ensures that only relevant, non-empty data is stored, making it ready for analysis or processing.\n",
    "\n",
    "The CSV File used in the project is available here: https://github.com/owid/owid-datasets/blob/master/datasets/US%20Measles%20Cases%20and%20Deaths%20(OWID%2C%202017)/US%20Measles%20Cases%20and%20Deaths%20(OWID%2C%202017).csv"
   ]
  },
  {
   "cell_type": "code",
   "execution_count": 4,
   "id": "b0e5567e28113b63",
   "metadata": {
    "ExecuteTime": {
     "end_time": "2025-01-16T14:20:06.885130Z",
     "start_time": "2025-01-16T14:20:06.868963Z"
    }
   },
   "outputs": [],
   "source": [
    "def reading_data():\n",
    "    with open('US Measles Cases and Deaths (OWID, 2017).csv', 'r') as f:\n",
    "        reader = csv.DictReader(f)\n",
    "        for line in reader:\n",
    "            cleaned_line = {key: value for key, value in line.items() if value and value.strip()}\n",
    "            data.append(cleaned_line)"
   ]
  },
  {
   "cell_type": "markdown",
   "id": "fc8dd8c2a6a4c1e3",
   "metadata": {},
   "source": [
    "## Function 2: Calculating Transmition Rate Constant ($\\beta$)\n",
    "\n",
    "The `beta_value()` function calculates the average transmission rate (β) based on changes in reported cases and population. It iterates through the data, computes the change in cases and population, and calculates β using the formula:\n",
    "\n",
    "$$\n",
    "\\beta = \\frac{\\text{Current Cases} - \\text{Previous Cases}}{\\text{Previous Cases} \\times (\\text{Current Population} - \\text{Previous Population})}\n",
    "$$\n",
    "The function averages the β values and returns the result.\n",
    "\n",
    "Note: This is a simplified method for calculating β, which may not fully reflect all real-world factors but is adequate for the scope of this project."
   ]
  },
  {
   "cell_type": "code",
   "execution_count": 5,
   "id": "d3c9c58df95d8702",
   "metadata": {
    "ExecuteTime": {
     "end_time": "2025-01-16T14:20:10.457720Z",
     "start_time": "2025-01-16T14:20:10.433410Z"
    }
   },
   "outputs": [],
   "source": [
    "def beta_value(prev_pop, prev_case):\n",
    "    for line in data:\n",
    "        current_case = line.get('Reported Cases', '0').strip()\n",
    "        current_pop = line.get('Reported Population', '0').strip()\n",
    "\n",
    "        current_case = int(current_case) if current_case else 0\n",
    "        current_pop = int(current_pop) if current_pop else 0\n",
    "\n",
    "        if current_case == 0 or current_pop == 0:\n",
    "            continue\n",
    "\n",
    "        delta_case = current_case - prev_case\n",
    "        delta_pop = current_pop - prev_pop\n",
    "\n",
    "        if prev_pop != 0 and prev_case != 0:\n",
    "            temp_beta = delta_case / (prev_case * delta_pop)\n",
    "            beta_list.append(temp_beta)\n",
    "\n",
    "        prev_case = current_case\n",
    "        prev_pop = current_pop\n",
    "\n",
    "    avg_beta = sum(beta_list) / len(beta_list) if beta_list else 0\n",
    "    print(f'Average Transmission Rate: {avg_beta}')\n",
    "    return avg_beta"
   ]
  },
  {
   "cell_type": "markdown",
   "id": "b71c8b17efe38abc",
   "metadata": {},
   "source": [
    "## Function 3: Defining Mathematical Model\n",
    "#### References: Function taken from $[2][3]$\n",
    "\n",
    "`dadt(a, t, b, g, n)` defines the system of ordinary differential equations (ODEs) for the classic SIR model. It calculates the rates of change for the susceptible, infected, and recovered equations in the population over time\n",
    "#### Parameters:\n",
    "- `a` : List Containing the Current Value of S, I, R\n",
    "- `t` :Time Variable Required for Solving ODE’s\n",
    "- `b` : Transmission rate (\\beta)\n",
    "- `g` : Recovery Rate (\\gamma)\n",
    "- `n` : Total Population Size (N)\n",
    "#### Returns\n",
    "`dadt` returns a list of the rates of change:\n",
    "- $\\frac{dS}{dt} = -\\frac{\\beta}{N} S I$\n",
    "- $\\frac{dI}{dt} = \\frac{\\beta}{N} S I - \\gamma I$\n",
    "- $\\frac{dR}{dt} = \\gamma I$"
   ]
  },
  {
   "cell_type": "code",
   "execution_count": 6,
   "id": "8f2aa3f4920e835b",
   "metadata": {
    "ExecuteTime": {
     "end_time": "2025-01-16T14:20:14.320925Z",
     "start_time": "2025-01-16T14:20:14.298437Z"
    }
   },
   "outputs": [],
   "source": [
    "def dadt(a, t, b, g, n):\n",
    "    s, i, r = a\n",
    "    return [\n",
    "        -b / n * s * i,\n",
    "        b / n * s * i - g * i,\n",
    "        g * i\n",
    "    ]"
   ]
  },
  {
   "cell_type": "markdown",
   "id": "1fecd4662a6e1c6f",
   "metadata": {},
   "source": [
    "## Function 4: Initialize the model\n",
    "#### References: Function taken from $[2][3]$\n",
    "This function checks if the list is not empty. If it's not, it returns the last element `(list[-1])`; if it is empty, it returns `None`. It retrieves the most recent data from the list."
   ]
  },
  {
   "cell_type": "code",
   "execution_count": 7,
   "id": "aa574795309952e1",
   "metadata": {
    "ExecuteTime": {
     "end_time": "2025-01-16T14:20:17.114407Z",
     "start_time": "2025-01-16T14:20:17.099163Z"
    }
   },
   "outputs": [],
   "source": [
    "def initial_data(d):\n",
    "    if d: # Check if the data list is not empty\n",
    "        return d[-1]  # Return the last element in the data list, intializing the model\n",
    "    else:\n",
    "        return None  # Return None if the data list is empty"
   ]
  },
  {
   "cell_type": "markdown",
   "id": "303ee197c24e1835",
   "metadata": {},
   "source": [
    "## Function 5: Solve Ordinary Differential Equations\n",
    "#### References: Function taken from $[2][3]$\n",
    "This function solves a system of differential equations, likely modeling disease spread, using `odeint` from `scipy.integrate`. It sets initial conditions for `susceptible`, `infected`, and `recovered` populations, then integrates the equations over time, storing the results in `S`, `I`, and `R`.\n"
   ]
  },
  {
   "cell_type": "code",
   "execution_count": 8,
   "id": "df407d63f0434307",
   "metadata": {
    "ExecuteTime": {
     "end_time": "2025-01-16T14:20:19.382978Z",
     "start_time": "2025-01-16T14:20:19.365033Z"
    }
   },
   "outputs": [],
   "source": [
    "def solve_ode():\n",
    "    # Retrieve the most recent reported cases, defaulting to 0 if no data is found\n",
    "    iO = int(initial_data(data).get('Reported Cases', '0').strip()) if initial_data(data) else 0\n",
    "    # Calculate the susceptible population by subtracting infected cases from total population\n",
    "    sO = population - iO\n",
    "    # Set initial number of recovered individuals to 0 for simplicity\n",
    "    rO = 0\n",
    "\n",
    "    # Create an initial condition list: susceptible, infected, and recovered populations\n",
    "    yo = [sO, iO, rO]\n",
    "\n",
    "    # Solve the system of differential equations using odeint, passing required parameters\n",
    "    sol = odeint(dadt, yo, times, args=(beta_value(previous_population, previous_cases), gamma, population))\n",
    "\n",
    "    # Unpack the solution array into individual arrays for susceptible, infected, and recovered populations\n",
    "    global S, I, R\n",
    "    S, I, R = sol.T"
   ]
  },
  {
   "cell_type": "markdown",
   "id": "c7af3bc2d8405385",
   "metadata": {},
   "source": [
    "## Function 6: Update Graph\n",
    "This function updates the plot when the slider is moved by retrieving the `time` and adjusting the position of a vertical line on the plot. It finds the closest time index in the data, then updates the labels for infected and recovered populations with the corresponding values at that time. Finally, it redraws the plot to reflect the updated positions and label texts."
   ]
  },
  {
   "cell_type": "code",
   "execution_count": 9,
   "id": "5f665eb6dd7a16b0",
   "metadata": {
    "ExecuteTime": {
     "end_time": "2025-01-16T14:20:21.704144Z",
     "start_time": "2025-01-16T14:20:21.677194Z"
    }
   },
   "outputs": [],
   "source": [
    "def update(val):\n",
    "    # Get the current position of the slider (time value)\n",
    "    x_position = slider.val\n",
    "    # Move the vertical line to the new x-position on the plot\n",
    "    vertical_line.set_xdata([x_position])\n",
    "\n",
    "    # Find the closest index in the 'times' array to the slider's current value\n",
    "    idx = (np.abs(times - x_position)).argmin()\n",
    "\n",
    "    # Retrieve the infected and recovered populations at the selected time index\n",
    "    y_infected = I[idx]\n",
    "    y_recovered = R[idx]\n",
    "\n",
    "    # Move and update the text for the infected population label at the current x-position\n",
    "    intersection_itext.set_position((x_position, y_infected))\n",
    "    intersection_itext.set_text(f'({x_position:.2f}, {y_infected:.2f})')\n",
    "\n",
    "    # Move and update the text for the recovered population label at the current x-position\n",
    "    intersection_rtext.set_position((x_position, y_recovered))\n",
    "    intersection_rtext.set_text(f'({x_position:.2f}, {y_recovered:.2f})')\n",
    "\n",
    "    # Redraw the figure to reflect the changes\n",
    "    fig.canvas.draw_idle()"
   ]
  },
  {
   "cell_type": "markdown",
   "id": "f43d1d0517881be4",
   "metadata": {},
   "source": [
    "## Function 6: User Interface\n",
    "\n",
    "This function sets up the user interface for plotting and interacting with a disease prediction model. It first calls `reading_data()` then uses `solve_ode()` for solving the system of ordinary differential equations. Then crease a plot displaying the infected and recovered cases over time. A slider is added to allow the user to select diffent time points. The `Tkinter` library was used to create a window and display the plot."
   ]
  },
  {
   "cell_type": "code",
   "execution_count": 10,
   "id": "f187147c97a76f19",
   "metadata": {
    "ExecuteTime": {
     "end_time": "2025-01-16T14:20:24.609830Z",
     "start_time": "2025-01-16T14:20:24.595178Z"
    }
   },
   "outputs": [],
   "source": [
    "def user_interface():\n",
    "    # Read data and solve the differential equations\n",
    "    reading_data()\n",
    "    solve_ode()\n",
    "\n",
    "    # Initialize global variables for the figure, axes, slider, and text elements\n",
    "    global fig, ax, slider, vertical_line, intersection_itext, intersection_rtext\n",
    "\n",
    "    # Create a new figure and axes for the plot\n",
    "    fig, ax = plt.subplots()\n",
    "    # Adjust the space for the slider at the bottom of the window\n",
    "    plt.subplots_adjust(bottom=0.25)\n",
    "\n",
    "    # Plot the infected and recovered cases over time with respective colors and labels\n",
    "    ax.plot(times, I, label='Infected', color='blue')\n",
    "    ax.plot(times, R, label='Recovered', color='green')\n",
    "    # Add a vertical dashed line at time = 0 to mark the starting point\n",
    "    vertical_line = ax.axvline(x=0, color='red', linestyle='--')\n",
    "    # Add text labels for the infected and recovered populations at the start (position 0, 0)\n",
    "    intersection_itext = ax.text(0, 0, \"\", color='blue', fontsize=10)\n",
    "    intersection_rtext = ax.text(0, 0, \"\", color='green', fontsize=10)\n",
    "\n",
    "    # Set the labels for the x and y axes, and the title of the plot\n",
    "    ax.set_xlabel('Time')\n",
    "    ax.set_ylabel('Cases')\n",
    "    ax.set_title('Prediction Model')\n",
    "    # Display the legend for the plot\n",
    "    ax.legend()\n",
    "    # Enable grid lines on the plot for better visibility\n",
    "    ax.grid(True)\n",
    "\n",
    "    # Define the area for the slider below the plot and create the slider\n",
    "    ax_slider = plt.axes([0.2, 0.1, 0.65, 0.03], facecolor='lightgoldenrodyellow')\n",
    "    slider = Slider(ax_slider, 'Time', times.min(), times.max(), valinit=0, valstep=(times[1] - times[0]))\n",
    "    # Attach the update function to the slider's value change event\n",
    "    slider.on_changed(update)\n",
    "\n",
    "    # Create a Tkinter window to display the plot\n",
    "    root = tk.Tk()\n",
    "    root.wm_title(\"SIR Model Plot\")  # Set the window title\n",
    "    # Embed the plot in the Tkinter window using FigureCanvasTkAgg\n",
    "    canvas = FigureCanvasTkAgg(fig, master=root)\n",
    "    canvas.draw()  # Draw the plot on the canvas\n",
    "    # Pack the canvas widget into the Tkinter window\n",
    "    canvas.get_tk_widget().pack()\n",
    "    # Start the Tkinter main event loop to display the window\n",
    "    tk.mainloop()\n"
   ]
  },
  {
   "cell_type": "markdown",
   "id": "bc83d93aaf809cfe",
   "metadata": {},
   "source": [
    "## Run Program"
   ]
  },
  {
   "cell_type": "code",
   "execution_count": null,
   "id": "508afa4c77c03994",
   "metadata": {
    "ExecuteTime": {
     "start_time": "2025-01-16T14:20:28.561526Z"
    },
    "jupyter": {
     "is_executing": true
    }
   },
   "outputs": [
    {
     "name": "stdout",
     "output_type": "stream",
     "text": [
      "Average Transmission Rate: 0\n"
     ]
    }
   ],
   "source": [
    "user_interface()"
   ]
  },
  {
   "cell_type": "markdown",
   "id": "468e6cef1abddbea",
   "metadata": {},
   "source": [
    "## Results\n",
    "#### Comparrison Data taken from $[6]$\n",
    "In 2017, the United States reported 120 cases of measles, significantly higher than the usual annual reports of 1 to 2 cases, largely due to an outbreak in a largely unvaccinated Somali community in Minnesota. $[6]$ According to the predictions made by the SIR (Susceptible-Infected-Recovered) model, the estimated number of infections for the same year was 170.11.\n",
    "\n",
    "$$\n",
    "\\text{Accuracy} = \\left( 1 - \\frac{| \\text{Predicted} - \\text{Actual} |}{\\text{Actual}} \\right) \\times 100\n",
    "$$\n",
    "\n",
    "Using the predicted value of 170.11 and the actual value of 120:\n",
    "\n",
    "$$\n",
    "\\text{Accuracy} = \\left( 1 - \\frac{|170.11 - 120|}{120} \\right) \\times 100 = \\left( 1 - \\frac{50.11}{120} \\right) \\times 100 \\approx 58.18\\%\n",
    "$$\n",
    "\n",
    "The model's prediction is approximately 58.18% accurate, indicating that it overestimated the number of infections. This suggests the model may not fully capture the complexity of the outbreak and could benefit from further refinement and adjustments.\n"
   ]
  },
  {
   "cell_type": "markdown",
   "id": "908d428762124877",
   "metadata": {},
   "source": [
    "## Improvements\n",
    "\n",
    "- Refinement of Parameters: Regularly update infection and recovery rates based on real-time data and regional factors, such as vaccination coverage and sociodemographic variables, to improve model accuracy.\n",
    "\n",
    "- Data Structures and Efficiency: Use more advanced data structures like `Pandas DataFrames` for better handling of time-series data, optimize calculations with vectorization and parallel processing techniques, and store large datasets in `SQL databases` for efficient querying and management.\n",
    "\n",
    "- Incorporate More Complex Models: Extend the SIR model to more sophisticated models like `SEIR` or `SIRS`, which include additional compartments, and use stochastic processes to account for variability in disease transmission.\n"
   ]
  },
  {
   "cell_type": "markdown",
   "id": "53744158ae46ea7e",
   "metadata": {},
   "source": [
    "## References\n",
    "[1] \"US Measles Cases and Deaths (OWID, 2017),\" Our World in Data, Available: https://github.com/owid/owid-datasets/blob/master/datasets/US%20Measles%20Cases%20and%20Deaths%20(OWID%2C%202017)/US%20Measles%20Cases%20and%20Deaths%20(OWID%2C%202017).csv, Accessed: Jan. 8, 2025.\n",
    "\n",
    "[2] Mr P Solver, \"The SIR Disease Model in PYTHON\" YouTube, Jan. 2, 2020. [Online]. Available: https://www.youtube.com/watch?v=zpYMiJd3pqg. [Accessed: Jan. 8, 2025].\n",
    "\n",
    "[3] L. Polson, \"Python Metaphysics Series: Vid2,\" GitHub, Available: https://github.com/lukepolson/youtube_channel/blob/main/Python%20Metaphysics%20Series/vid2.ipynb, Accessed: Jan. 8, 2025.\n",
    "\n",
    "[4] https://www.youtube.com/watch?v=f1a8JYAixXU\n",
    "\n",
    "[5] https://www.canada.ca/en/public-health/services/diseases/measles/health-professionals-measles.html\n",
    "\n",
    "[6] https://en.wikipedia.org/wiki/Epidemiology_of_measles?utm_source=chatgpt.com\n",
    "\n",
    "### Reference Usage\n",
    "\n",
    "- Sections containing concepts or ideas from external sources have been given reference at the section title\n",
    "- Lines copied and pasted from external sources have been given in-text citation at the end of the respective sentence"
   ]
  },
  {
   "cell_type": "markdown",
   "id": "3beebdea90ccdd2c",
   "metadata": {},
   "source": []
  },
  {
   "cell_type": "code",
   "execution_count": null,
   "id": "7769ae72a717f0f8",
   "metadata": {},
   "outputs": [],
   "source": []
  }
 ],
 "metadata": {
  "kernelspec": {
   "display_name": "Python 3 (ipykernel)",
   "language": "python",
   "name": "python3"
  },
  "language_info": {
   "codemirror_mode": {
    "name": "ipython",
    "version": 3
   },
   "file_extension": ".py",
   "mimetype": "text/x-python",
   "name": "python",
   "nbconvert_exporter": "python",
   "pygments_lexer": "ipython3",
   "version": "3.13.1"
  }
 },
 "nbformat": 4,
 "nbformat_minor": 5
}
